{
 "cells": [
  {
   "cell_type": "code",
   "execution_count": 1,
   "id": "0138b805-d43f-4d01-8e9b-dfc684fa77a9",
   "metadata": {},
   "outputs": [],
   "source": [
    "import pandas as pd\n",
    "import numpy as np\n",
    "from sklearn.ensemble import RandomForestClassifier"
   ]
  },
  {
   "cell_type": "code",
   "execution_count": 2,
   "id": "3fb712b1-7ef7-4027-b44f-33d4e3298a4d",
   "metadata": {},
   "outputs": [],
   "source": [
    "df_train = pd.read_csv('data/training_set_features.csv')\n",
    "df_test = pd.read_csv('data/test_set_features.csv')\n",
    "y_train = pd.read_csv('data/training_set_labels.csv')"
   ]
  },
  {
   "cell_type": "code",
   "execution_count": 3,
   "id": "da5de901-323d-4228-be57-870f369a7a07",
   "metadata": {},
   "outputs": [
    {
     "data": {
      "text/plain": [
       "respondent_id                    int64\n",
       "h1n1_concern                   float64\n",
       "h1n1_knowledge                 float64\n",
       "behavioral_antiviral_meds      float64\n",
       "behavioral_avoidance           float64\n",
       "behavioral_face_mask           float64\n",
       "behavioral_wash_hands          float64\n",
       "behavioral_large_gatherings    float64\n",
       "behavioral_outside_home        float64\n",
       "behavioral_touch_face          float64\n",
       "doctor_recc_h1n1               float64\n",
       "doctor_recc_seasonal           float64\n",
       "chronic_med_condition          float64\n",
       "child_under_6_months           float64\n",
       "health_worker                  float64\n",
       "health_insurance               float64\n",
       "opinion_h1n1_vacc_effective    float64\n",
       "opinion_h1n1_risk              float64\n",
       "opinion_h1n1_sick_from_vacc    float64\n",
       "opinion_seas_vacc_effective    float64\n",
       "opinion_seas_risk              float64\n",
       "opinion_seas_sick_from_vacc    float64\n",
       "age_group                       object\n",
       "education                       object\n",
       "race                            object\n",
       "sex                             object\n",
       "income_poverty                  object\n",
       "marital_status                  object\n",
       "rent_or_own                     object\n",
       "employment_status               object\n",
       "hhs_geo_region                  object\n",
       "census_msa                      object\n",
       "household_adults               float64\n",
       "household_children             float64\n",
       "employment_industry             object\n",
       "employment_occupation           object\n",
       "dtype: object"
      ]
     },
     "execution_count": 3,
     "metadata": {},
     "output_type": "execute_result"
    }
   ],
   "source": [
    "df_train.dtypes"
   ]
  },
  {
   "cell_type": "code",
   "execution_count": 4,
   "id": "95967d60-6382-4755-92ae-175432422e7d",
   "metadata": {},
   "outputs": [
    {
     "name": "stdout",
     "output_type": "stream",
     "text": [
      "0    0.787546\n",
      "1    0.212454\n",
      "Name: h1n1_vaccine, dtype: float64\n",
      "0    0.534392\n",
      "1    0.465608\n",
      "Name: seasonal_vaccine, dtype: float64\n"
     ]
    }
   ],
   "source": [
    "print(y_train.h1n1_vaccine.value_counts(normalize=True))\n",
    "print(y_train.seasonal_vaccine.value_counts(normalize=True))"
   ]
  },
  {
   "cell_type": "code",
   "execution_count": 14,
   "id": "a5735744-3ad6-468b-9bc7-f55b1028c878",
   "metadata": {},
   "outputs": [],
   "source": [
    "from sklearn.metrics import (\n",
    "    roc_auc_score,\n",
    "    recall_score,\n",
    "    f1_score,\n",
    "    matthews_corrcoef\n",
    ")\n",
    "\n",
    "from sklearn.model_selection import cross_val_score"
   ]
  },
  {
   "cell_type": "markdown",
   "id": "c95f3b3b-b81c-4d34-905f-36e2316a4245",
   "metadata": {},
   "source": [
    "### Preprocessing"
   ]
  },
  {
   "cell_type": "code",
   "execution_count": 15,
   "id": "e0f8f8eb",
   "metadata": {},
   "outputs": [
    {
     "data": {
      "text/plain": [
       "respondent_id                      0\n",
       "h1n1_concern                      92\n",
       "h1n1_knowledge                   116\n",
       "behavioral_antiviral_meds         71\n",
       "behavioral_avoidance             208\n",
       "behavioral_face_mask              19\n",
       "behavioral_wash_hands             42\n",
       "behavioral_large_gatherings       87\n",
       "behavioral_outside_home           82\n",
       "behavioral_touch_face            128\n",
       "doctor_recc_h1n1                2160\n",
       "doctor_recc_seasonal            2160\n",
       "chronic_med_condition            971\n",
       "child_under_6_months             820\n",
       "health_worker                    804\n",
       "health_insurance               12274\n",
       "opinion_h1n1_vacc_effective      391\n",
       "opinion_h1n1_risk                388\n",
       "opinion_h1n1_sick_from_vacc      395\n",
       "opinion_seas_vacc_effective      462\n",
       "opinion_seas_risk                514\n",
       "opinion_seas_sick_from_vacc      537\n",
       "age_group                          0\n",
       "education                       1407\n",
       "race                               0\n",
       "sex                                0\n",
       "income_poverty                  4423\n",
       "marital_status                  1408\n",
       "rent_or_own                     2042\n",
       "employment_status               1463\n",
       "hhs_geo_region                     0\n",
       "census_msa                         0\n",
       "household_adults                 249\n",
       "household_children               249\n",
       "employment_industry            13330\n",
       "employment_occupation          13470\n",
       "dtype: int64"
      ]
     },
     "execution_count": 15,
     "metadata": {},
     "output_type": "execute_result"
    }
   ],
   "source": [
    "df_train.isnull().sum()"
   ]
  },
  {
   "cell_type": "code",
   "execution_count": 16,
   "id": "418bde0b",
   "metadata": {},
   "outputs": [
    {
     "data": {
      "text/plain": [
       "respondent_id                      0\n",
       "h1n1_concern                      85\n",
       "h1n1_knowledge                   122\n",
       "behavioral_antiviral_meds         79\n",
       "behavioral_avoidance             213\n",
       "behavioral_face_mask              19\n",
       "behavioral_wash_hands             40\n",
       "behavioral_large_gatherings       72\n",
       "behavioral_outside_home           82\n",
       "behavioral_touch_face            128\n",
       "doctor_recc_h1n1                2160\n",
       "doctor_recc_seasonal            2160\n",
       "chronic_med_condition            932\n",
       "child_under_6_months             813\n",
       "health_worker                    789\n",
       "health_insurance               12228\n",
       "opinion_h1n1_vacc_effective      398\n",
       "opinion_h1n1_risk                380\n",
       "opinion_h1n1_sick_from_vacc      375\n",
       "opinion_seas_vacc_effective      452\n",
       "opinion_seas_risk                499\n",
       "opinion_seas_sick_from_vacc      521\n",
       "age_group                          0\n",
       "education                       1407\n",
       "race                               0\n",
       "sex                                0\n",
       "income_poverty                  4497\n",
       "marital_status                  1442\n",
       "rent_or_own                     2036\n",
       "employment_status               1471\n",
       "hhs_geo_region                     0\n",
       "census_msa                         0\n",
       "household_adults                 225\n",
       "household_children               225\n",
       "employment_industry            13275\n",
       "employment_occupation          13426\n",
       "dtype: int64"
      ]
     },
     "execution_count": 16,
     "metadata": {},
     "output_type": "execute_result"
    }
   ],
   "source": [
    "df_test.isnull().sum()"
   ]
  },
  {
   "cell_type": "code",
   "execution_count": 18,
   "id": "980a8bdc",
   "metadata": {},
   "outputs": [],
   "source": [
    "fill_with_unknown = [\"education\",\"income_poverty\",\"employment_industry\",\"employment_occupation\",\"employment_status\",\"marital_status\",\"rent_or_own\"]\n",
    "                \n",
    "\n",
    "for col in fill_with_unknown:\n",
    "    df_train[col] = df_train[col].fillna(value=\"Unknown\")\n",
    "    df_test[col] = df_test[col].fillna(value=\"Unknown\")"
   ]
  },
  {
   "cell_type": "code",
   "execution_count": 19,
   "id": "d1e0f94e",
   "metadata": {},
   "outputs": [],
   "source": [
    "ages = {\"18 - 34 Years\" :0 ,\n",
    "                     \"35 - 44 Years\" : 1,\n",
    "                     \"45 - 54 Years\" : 2,\n",
    "                     \"55 - 64 Years\": 3,\n",
    "                     \"65+ Years\" : 4}\n",
    "    \n",
    "education = {\"< 12 Years\" :1 ,\n",
    "                     \"12 Years\" :2,\n",
    "                     \"Some College\" : 3,\n",
    "                     \"College Graduate\": 4,\n",
    "                     \"Unknown\" : 0}\n",
    "\n",
    "income_poverty =  {\"Unknown\" :0,\n",
    "                    \"Below Poverty\" :1 ,\n",
    "                     \"<= $75,000\" :2,\n",
    "                     \"Above Poverty\" : 3,\n",
    "                     \"$75,000\": 4 }\n",
    "\n",
    "\n",
    "df_train['age_group'] = df_train.age_group.map(ages)\n",
    "df_test['age_group'] = df_test.age_group.map(ages)\n",
    "\n",
    "df_train['education'] = df_train.education.map(education)\n",
    "df_test['education'] = df_test.education.map(education)\n",
    "\n",
    "df_train['income_poverty'] = df_train.income_poverty.map(income_poverty)\n",
    "df_test['income_poverty'] = df_test.income_poverty.map(income_poverty)"
   ]
  },
  {
   "cell_type": "code",
   "execution_count": 20,
   "id": "fc3c2b4f",
   "metadata": {},
   "outputs": [],
   "source": [
    "def myfillna(series):\n",
    "    if series.dtype is pd.np.dtype(float):\n",
    "        return series.fillna(series.mean())\n",
    "    elif series.dtype is pd.np.dtype(object):\n",
    "        return series.fillna(series.mode())\n",
    "    else:\n",
    "        return series"
   ]
  },
  {
   "cell_type": "code",
   "execution_count": 21,
   "id": "b82c6695",
   "metadata": {},
   "outputs": [
    {
     "name": "stderr",
     "output_type": "stream",
     "text": [
      "C:\\Users\\anarb\\AppData\\Local\\Temp\\ipykernel_4756\\3723696252.py:2: FutureWarning: The pandas.np module is deprecated and will be removed from pandas in a future version. Import numpy directly instead.\n",
      "  if series.dtype is pd.np.dtype(float):\n",
      "C:\\Users\\anarb\\AppData\\Local\\Temp\\ipykernel_4756\\3723696252.py:4: FutureWarning: The pandas.np module is deprecated and will be removed from pandas in a future version. Import numpy directly instead.\n",
      "  elif series.dtype is pd.np.dtype(object):\n",
      "C:\\Users\\anarb\\AppData\\Local\\Temp\\ipykernel_4756\\3723696252.py:2: FutureWarning: The pandas.np module is deprecated and will be removed from pandas in a future version. Import numpy directly instead.\n",
      "  if series.dtype is pd.np.dtype(float):\n",
      "C:\\Users\\anarb\\AppData\\Local\\Temp\\ipykernel_4756\\3723696252.py:4: FutureWarning: The pandas.np module is deprecated and will be removed from pandas in a future version. Import numpy directly instead.\n",
      "  elif series.dtype is pd.np.dtype(object):\n",
      "C:\\Users\\anarb\\AppData\\Local\\Temp\\ipykernel_4756\\3723696252.py:2: FutureWarning: The pandas.np module is deprecated and will be removed from pandas in a future version. Import numpy directly instead.\n",
      "  if series.dtype is pd.np.dtype(float):\n",
      "C:\\Users\\anarb\\AppData\\Local\\Temp\\ipykernel_4756\\3723696252.py:4: FutureWarning: The pandas.np module is deprecated and will be removed from pandas in a future version. Import numpy directly instead.\n",
      "  elif series.dtype is pd.np.dtype(object):\n",
      "C:\\Users\\anarb\\AppData\\Local\\Temp\\ipykernel_4756\\3723696252.py:2: FutureWarning: The pandas.np module is deprecated and will be removed from pandas in a future version. Import numpy directly instead.\n",
      "  if series.dtype is pd.np.dtype(float):\n",
      "C:\\Users\\anarb\\AppData\\Local\\Temp\\ipykernel_4756\\3723696252.py:4: FutureWarning: The pandas.np module is deprecated and will be removed from pandas in a future version. Import numpy directly instead.\n",
      "  elif series.dtype is pd.np.dtype(object):\n",
      "C:\\Users\\anarb\\AppData\\Local\\Temp\\ipykernel_4756\\3723696252.py:2: FutureWarning: The pandas.np module is deprecated and will be removed from pandas in a future version. Import numpy directly instead.\n",
      "  if series.dtype is pd.np.dtype(float):\n",
      "C:\\Users\\anarb\\AppData\\Local\\Temp\\ipykernel_4756\\3723696252.py:4: FutureWarning: The pandas.np module is deprecated and will be removed from pandas in a future version. Import numpy directly instead.\n",
      "  elif series.dtype is pd.np.dtype(object):\n",
      "C:\\Users\\anarb\\AppData\\Local\\Temp\\ipykernel_4756\\3723696252.py:2: FutureWarning: The pandas.np module is deprecated and will be removed from pandas in a future version. Import numpy directly instead.\n",
      "  if series.dtype is pd.np.dtype(float):\n",
      "C:\\Users\\anarb\\AppData\\Local\\Temp\\ipykernel_4756\\3723696252.py:4: FutureWarning: The pandas.np module is deprecated and will be removed from pandas in a future version. Import numpy directly instead.\n",
      "  elif series.dtype is pd.np.dtype(object):\n",
      "C:\\Users\\anarb\\AppData\\Local\\Temp\\ipykernel_4756\\3723696252.py:2: FutureWarning: The pandas.np module is deprecated and will be removed from pandas in a future version. Import numpy directly instead.\n",
      "  if series.dtype is pd.np.dtype(float):\n",
      "C:\\Users\\anarb\\AppData\\Local\\Temp\\ipykernel_4756\\3723696252.py:4: FutureWarning: The pandas.np module is deprecated and will be removed from pandas in a future version. Import numpy directly instead.\n",
      "  elif series.dtype is pd.np.dtype(object):\n",
      "C:\\Users\\anarb\\AppData\\Local\\Temp\\ipykernel_4756\\3723696252.py:2: FutureWarning: The pandas.np module is deprecated and will be removed from pandas in a future version. Import numpy directly instead.\n",
      "  if series.dtype is pd.np.dtype(float):\n",
      "C:\\Users\\anarb\\AppData\\Local\\Temp\\ipykernel_4756\\3723696252.py:4: FutureWarning: The pandas.np module is deprecated and will be removed from pandas in a future version. Import numpy directly instead.\n",
      "  elif series.dtype is pd.np.dtype(object):\n",
      "C:\\Users\\anarb\\AppData\\Local\\Temp\\ipykernel_4756\\3723696252.py:2: FutureWarning: The pandas.np module is deprecated and will be removed from pandas in a future version. Import numpy directly instead.\n",
      "  if series.dtype is pd.np.dtype(float):\n",
      "C:\\Users\\anarb\\AppData\\Local\\Temp\\ipykernel_4756\\3723696252.py:4: FutureWarning: The pandas.np module is deprecated and will be removed from pandas in a future version. Import numpy directly instead.\n",
      "  elif series.dtype is pd.np.dtype(object):\n",
      "C:\\Users\\anarb\\AppData\\Local\\Temp\\ipykernel_4756\\3723696252.py:2: FutureWarning: The pandas.np module is deprecated and will be removed from pandas in a future version. Import numpy directly instead.\n",
      "  if series.dtype is pd.np.dtype(float):\n",
      "C:\\Users\\anarb\\AppData\\Local\\Temp\\ipykernel_4756\\3723696252.py:4: FutureWarning: The pandas.np module is deprecated and will be removed from pandas in a future version. Import numpy directly instead.\n",
      "  elif series.dtype is pd.np.dtype(object):\n",
      "C:\\Users\\anarb\\AppData\\Local\\Temp\\ipykernel_4756\\3723696252.py:2: FutureWarning: The pandas.np module is deprecated and will be removed from pandas in a future version. Import numpy directly instead.\n",
      "  if series.dtype is pd.np.dtype(float):\n",
      "C:\\Users\\anarb\\AppData\\Local\\Temp\\ipykernel_4756\\3723696252.py:4: FutureWarning: The pandas.np module is deprecated and will be removed from pandas in a future version. Import numpy directly instead.\n",
      "  elif series.dtype is pd.np.dtype(object):\n",
      "C:\\Users\\anarb\\AppData\\Local\\Temp\\ipykernel_4756\\3723696252.py:2: FutureWarning: The pandas.np module is deprecated and will be removed from pandas in a future version. Import numpy directly instead.\n",
      "  if series.dtype is pd.np.dtype(float):\n",
      "C:\\Users\\anarb\\AppData\\Local\\Temp\\ipykernel_4756\\3723696252.py:4: FutureWarning: The pandas.np module is deprecated and will be removed from pandas in a future version. Import numpy directly instead.\n",
      "  elif series.dtype is pd.np.dtype(object):\n",
      "C:\\Users\\anarb\\AppData\\Local\\Temp\\ipykernel_4756\\3723696252.py:2: FutureWarning: The pandas.np module is deprecated and will be removed from pandas in a future version. Import numpy directly instead.\n",
      "  if series.dtype is pd.np.dtype(float):\n",
      "C:\\Users\\anarb\\AppData\\Local\\Temp\\ipykernel_4756\\3723696252.py:4: FutureWarning: The pandas.np module is deprecated and will be removed from pandas in a future version. Import numpy directly instead.\n",
      "  elif series.dtype is pd.np.dtype(object):\n",
      "C:\\Users\\anarb\\AppData\\Local\\Temp\\ipykernel_4756\\3723696252.py:2: FutureWarning: The pandas.np module is deprecated and will be removed from pandas in a future version. Import numpy directly instead.\n",
      "  if series.dtype is pd.np.dtype(float):\n",
      "C:\\Users\\anarb\\AppData\\Local\\Temp\\ipykernel_4756\\3723696252.py:4: FutureWarning: The pandas.np module is deprecated and will be removed from pandas in a future version. Import numpy directly instead.\n",
      "  elif series.dtype is pd.np.dtype(object):\n",
      "C:\\Users\\anarb\\AppData\\Local\\Temp\\ipykernel_4756\\3723696252.py:2: FutureWarning: The pandas.np module is deprecated and will be removed from pandas in a future version. Import numpy directly instead.\n",
      "  if series.dtype is pd.np.dtype(float):\n",
      "C:\\Users\\anarb\\AppData\\Local\\Temp\\ipykernel_4756\\3723696252.py:4: FutureWarning: The pandas.np module is deprecated and will be removed from pandas in a future version. Import numpy directly instead.\n",
      "  elif series.dtype is pd.np.dtype(object):\n",
      "C:\\Users\\anarb\\AppData\\Local\\Temp\\ipykernel_4756\\3723696252.py:2: FutureWarning: The pandas.np module is deprecated and will be removed from pandas in a future version. Import numpy directly instead.\n",
      "  if series.dtype is pd.np.dtype(float):\n",
      "C:\\Users\\anarb\\AppData\\Local\\Temp\\ipykernel_4756\\3723696252.py:4: FutureWarning: The pandas.np module is deprecated and will be removed from pandas in a future version. Import numpy directly instead.\n",
      "  elif series.dtype is pd.np.dtype(object):\n",
      "C:\\Users\\anarb\\AppData\\Local\\Temp\\ipykernel_4756\\3723696252.py:2: FutureWarning: The pandas.np module is deprecated and will be removed from pandas in a future version. Import numpy directly instead.\n",
      "  if series.dtype is pd.np.dtype(float):\n",
      "C:\\Users\\anarb\\AppData\\Local\\Temp\\ipykernel_4756\\3723696252.py:4: FutureWarning: The pandas.np module is deprecated and will be removed from pandas in a future version. Import numpy directly instead.\n",
      "  elif series.dtype is pd.np.dtype(object):\n",
      "C:\\Users\\anarb\\AppData\\Local\\Temp\\ipykernel_4756\\3723696252.py:2: FutureWarning: The pandas.np module is deprecated and will be removed from pandas in a future version. Import numpy directly instead.\n",
      "  if series.dtype is pd.np.dtype(float):\n",
      "C:\\Users\\anarb\\AppData\\Local\\Temp\\ipykernel_4756\\3723696252.py:4: FutureWarning: The pandas.np module is deprecated and will be removed from pandas in a future version. Import numpy directly instead.\n",
      "  elif series.dtype is pd.np.dtype(object):\n"
     ]
    }
   ],
   "source": [
    "df_train = df_train.apply(myfillna)\n",
    "df_test = df_test.apply(myfillna)"
   ]
  },
  {
   "cell_type": "code",
   "execution_count": 23,
   "id": "4388daad-ed08-471a-89cb-47711fd7e7fc",
   "metadata": {},
   "outputs": [],
   "source": [
    "from category_encoders import CountEncoder"
   ]
  },
  {
   "cell_type": "code",
   "execution_count": 24,
   "id": "88e0fb65-9651-4277-aba9-8bc013b4f45a",
   "metadata": {},
   "outputs": [
    {
     "data": {
      "text/html": [
       "<div>\n",
       "<style scoped>\n",
       "    .dataframe tbody tr th:only-of-type {\n",
       "        vertical-align: middle;\n",
       "    }\n",
       "\n",
       "    .dataframe tbody tr th {\n",
       "        vertical-align: top;\n",
       "    }\n",
       "\n",
       "    .dataframe thead th {\n",
       "        text-align: right;\n",
       "    }\n",
       "</style>\n",
       "<table border=\"1\" class=\"dataframe\">\n",
       "  <thead>\n",
       "    <tr style=\"text-align: right;\">\n",
       "      <th></th>\n",
       "      <th>race</th>\n",
       "      <th>sex</th>\n",
       "      <th>marital_status</th>\n",
       "      <th>rent_or_own</th>\n",
       "      <th>employment_status</th>\n",
       "      <th>hhs_geo_region</th>\n",
       "      <th>census_msa</th>\n",
       "      <th>employment_industry</th>\n",
       "      <th>employment_occupation</th>\n",
       "    </tr>\n",
       "  </thead>\n",
       "  <tbody>\n",
       "    <tr>\n",
       "      <th>0</th>\n",
       "      <td>White</td>\n",
       "      <td>Female</td>\n",
       "      <td>Not Married</td>\n",
       "      <td>Own</td>\n",
       "      <td>Not in Labor Force</td>\n",
       "      <td>oxchjgsf</td>\n",
       "      <td>Non-MSA</td>\n",
       "      <td>Unknown</td>\n",
       "      <td>Unknown</td>\n",
       "    </tr>\n",
       "    <tr>\n",
       "      <th>1</th>\n",
       "      <td>White</td>\n",
       "      <td>Male</td>\n",
       "      <td>Not Married</td>\n",
       "      <td>Rent</td>\n",
       "      <td>Employed</td>\n",
       "      <td>bhuqouqj</td>\n",
       "      <td>MSA, Not Principle  City</td>\n",
       "      <td>pxcmvdjn</td>\n",
       "      <td>xgwztkwe</td>\n",
       "    </tr>\n",
       "    <tr>\n",
       "      <th>2</th>\n",
       "      <td>White</td>\n",
       "      <td>Male</td>\n",
       "      <td>Not Married</td>\n",
       "      <td>Own</td>\n",
       "      <td>Employed</td>\n",
       "      <td>qufhixun</td>\n",
       "      <td>MSA, Not Principle  City</td>\n",
       "      <td>rucpziij</td>\n",
       "      <td>xtkaffoo</td>\n",
       "    </tr>\n",
       "    <tr>\n",
       "      <th>3</th>\n",
       "      <td>White</td>\n",
       "      <td>Female</td>\n",
       "      <td>Not Married</td>\n",
       "      <td>Rent</td>\n",
       "      <td>Not in Labor Force</td>\n",
       "      <td>lrircsnp</td>\n",
       "      <td>MSA, Principle City</td>\n",
       "      <td>Unknown</td>\n",
       "      <td>Unknown</td>\n",
       "    </tr>\n",
       "    <tr>\n",
       "      <th>4</th>\n",
       "      <td>White</td>\n",
       "      <td>Female</td>\n",
       "      <td>Married</td>\n",
       "      <td>Own</td>\n",
       "      <td>Employed</td>\n",
       "      <td>qufhixun</td>\n",
       "      <td>MSA, Not Principle  City</td>\n",
       "      <td>wxleyezf</td>\n",
       "      <td>emcorrxb</td>\n",
       "    </tr>\n",
       "    <tr>\n",
       "      <th>...</th>\n",
       "      <td>...</td>\n",
       "      <td>...</td>\n",
       "      <td>...</td>\n",
       "      <td>...</td>\n",
       "      <td>...</td>\n",
       "      <td>...</td>\n",
       "      <td>...</td>\n",
       "      <td>...</td>\n",
       "      <td>...</td>\n",
       "    </tr>\n",
       "    <tr>\n",
       "      <th>26702</th>\n",
       "      <td>White</td>\n",
       "      <td>Female</td>\n",
       "      <td>Not Married</td>\n",
       "      <td>Own</td>\n",
       "      <td>Not in Labor Force</td>\n",
       "      <td>qufhixun</td>\n",
       "      <td>Non-MSA</td>\n",
       "      <td>Unknown</td>\n",
       "      <td>Unknown</td>\n",
       "    </tr>\n",
       "    <tr>\n",
       "      <th>26703</th>\n",
       "      <td>White</td>\n",
       "      <td>Male</td>\n",
       "      <td>Not Married</td>\n",
       "      <td>Rent</td>\n",
       "      <td>Employed</td>\n",
       "      <td>lzgpxyit</td>\n",
       "      <td>MSA, Principle City</td>\n",
       "      <td>fcxhlnwr</td>\n",
       "      <td>cmhcxjea</td>\n",
       "    </tr>\n",
       "    <tr>\n",
       "      <th>26704</th>\n",
       "      <td>White</td>\n",
       "      <td>Female</td>\n",
       "      <td>Not Married</td>\n",
       "      <td>Own</td>\n",
       "      <td>Unknown</td>\n",
       "      <td>lzgpxyit</td>\n",
       "      <td>MSA, Not Principle  City</td>\n",
       "      <td>Unknown</td>\n",
       "      <td>Unknown</td>\n",
       "    </tr>\n",
       "    <tr>\n",
       "      <th>26705</th>\n",
       "      <td>Hispanic</td>\n",
       "      <td>Female</td>\n",
       "      <td>Married</td>\n",
       "      <td>Rent</td>\n",
       "      <td>Employed</td>\n",
       "      <td>lrircsnp</td>\n",
       "      <td>Non-MSA</td>\n",
       "      <td>fcxhlnwr</td>\n",
       "      <td>haliazsg</td>\n",
       "    </tr>\n",
       "    <tr>\n",
       "      <th>26706</th>\n",
       "      <td>White</td>\n",
       "      <td>Male</td>\n",
       "      <td>Married</td>\n",
       "      <td>Own</td>\n",
       "      <td>Not in Labor Force</td>\n",
       "      <td>mlyzmhmf</td>\n",
       "      <td>MSA, Principle City</td>\n",
       "      <td>Unknown</td>\n",
       "      <td>Unknown</td>\n",
       "    </tr>\n",
       "  </tbody>\n",
       "</table>\n",
       "<p>26707 rows × 9 columns</p>\n",
       "</div>"
      ],
      "text/plain": [
       "           race     sex marital_status rent_or_own   employment_status  \\\n",
       "0         White  Female    Not Married         Own  Not in Labor Force   \n",
       "1         White    Male    Not Married        Rent            Employed   \n",
       "2         White    Male    Not Married         Own            Employed   \n",
       "3         White  Female    Not Married        Rent  Not in Labor Force   \n",
       "4         White  Female        Married         Own            Employed   \n",
       "...         ...     ...            ...         ...                 ...   \n",
       "26702     White  Female    Not Married         Own  Not in Labor Force   \n",
       "26703     White    Male    Not Married        Rent            Employed   \n",
       "26704     White  Female    Not Married         Own             Unknown   \n",
       "26705  Hispanic  Female        Married        Rent            Employed   \n",
       "26706     White    Male        Married         Own  Not in Labor Force   \n",
       "\n",
       "      hhs_geo_region                census_msa employment_industry  \\\n",
       "0           oxchjgsf                   Non-MSA             Unknown   \n",
       "1           bhuqouqj  MSA, Not Principle  City            pxcmvdjn   \n",
       "2           qufhixun  MSA, Not Principle  City            rucpziij   \n",
       "3           lrircsnp       MSA, Principle City             Unknown   \n",
       "4           qufhixun  MSA, Not Principle  City            wxleyezf   \n",
       "...              ...                       ...                 ...   \n",
       "26702       qufhixun                   Non-MSA             Unknown   \n",
       "26703       lzgpxyit       MSA, Principle City            fcxhlnwr   \n",
       "26704       lzgpxyit  MSA, Not Principle  City             Unknown   \n",
       "26705       lrircsnp                   Non-MSA            fcxhlnwr   \n",
       "26706       mlyzmhmf       MSA, Principle City             Unknown   \n",
       "\n",
       "      employment_occupation  \n",
       "0                   Unknown  \n",
       "1                  xgwztkwe  \n",
       "2                  xtkaffoo  \n",
       "3                   Unknown  \n",
       "4                  emcorrxb  \n",
       "...                     ...  \n",
       "26702               Unknown  \n",
       "26703              cmhcxjea  \n",
       "26704               Unknown  \n",
       "26705              haliazsg  \n",
       "26706               Unknown  \n",
       "\n",
       "[26707 rows x 9 columns]"
      ]
     },
     "execution_count": 24,
     "metadata": {},
     "output_type": "execute_result"
    }
   ],
   "source": [
    "df_train.select_dtypes('object')"
   ]
  },
  {
   "cell_type": "code",
   "execution_count": 25,
   "id": "196fa9a8",
   "metadata": {},
   "outputs": [
    {
     "data": {
      "text/plain": [
       "respondent_id                  0\n",
       "h1n1_concern                   0\n",
       "h1n1_knowledge                 0\n",
       "behavioral_antiviral_meds      0\n",
       "behavioral_avoidance           0\n",
       "behavioral_face_mask           0\n",
       "behavioral_wash_hands          0\n",
       "behavioral_large_gatherings    0\n",
       "behavioral_outside_home        0\n",
       "behavioral_touch_face          0\n",
       "doctor_recc_h1n1               0\n",
       "doctor_recc_seasonal           0\n",
       "chronic_med_condition          0\n",
       "child_under_6_months           0\n",
       "health_worker                  0\n",
       "health_insurance               0\n",
       "opinion_h1n1_vacc_effective    0\n",
       "opinion_h1n1_risk              0\n",
       "opinion_h1n1_sick_from_vacc    0\n",
       "opinion_seas_vacc_effective    0\n",
       "opinion_seas_risk              0\n",
       "opinion_seas_sick_from_vacc    0\n",
       "age_group                      0\n",
       "education                      0\n",
       "race                           0\n",
       "sex                            0\n",
       "income_poverty                 0\n",
       "marital_status                 0\n",
       "rent_or_own                    0\n",
       "employment_status              0\n",
       "hhs_geo_region                 0\n",
       "census_msa                     0\n",
       "household_adults               0\n",
       "household_children             0\n",
       "employment_industry            0\n",
       "employment_occupation          0\n",
       "dtype: int64"
      ]
     },
     "execution_count": 25,
     "metadata": {},
     "output_type": "execute_result"
    }
   ],
   "source": [
    "df_train.isnull().sum()"
   ]
  },
  {
   "cell_type": "code",
   "execution_count": 26,
   "id": "e76d9b98-a63a-405c-8fb4-58f2def17f17",
   "metadata": {},
   "outputs": [],
   "source": [
    "categorical_cols = df_train.select_dtypes('object').columns"
   ]
  },
  {
   "cell_type": "markdown",
   "id": "58bd301c-c2b1-4e99-acca-d8948eb06308",
   "metadata": {},
   "source": [
    "### Modeling"
   ]
  },
  {
   "cell_type": "code",
   "execution_count": 29,
   "id": "d3be8075-65c1-4383-8249-d10c1347b0ef",
   "metadata": {},
   "outputs": [],
   "source": [
    "from sklearn.ensemble import RandomForestClassifier"
   ]
  },
  {
   "cell_type": "code",
   "execution_count": 30,
   "id": "3164bd77-0d3e-4941-a8a5-e0b6af1785e8",
   "metadata": {},
   "outputs": [],
   "source": [
    "X, y = df_train.drop(columns='respondent_id'), y_train.drop(columns='respondent_id')\n",
    "X_test = df_test.drop(columns='respondent_id')\n",
    "y1, y2 = y['h1n1_vaccine'], y['seasonal_vaccine']"
   ]
  },
  {
   "cell_type": "markdown",
   "id": "9d8a2f09-4fd6-4c8b-88fc-be1bcb2e6353",
   "metadata": {},
   "source": [
    "#### Pipeline"
   ]
  },
  {
   "cell_type": "code",
   "execution_count": 31,
   "id": "716ae3f3-408c-44c6-a53c-efb6b8b116a7",
   "metadata": {},
   "outputs": [],
   "source": [
    "from sklearn.pipeline import Pipeline"
   ]
  },
  {
   "cell_type": "code",
   "execution_count": 32,
   "id": "0ae5e8cd-fcba-4c14-a8a1-9eef2779920d",
   "metadata": {},
   "outputs": [
    {
     "data": {
      "text/html": [
       "<style>#sk-container-id-1 {color: black;background-color: white;}#sk-container-id-1 pre{padding: 0;}#sk-container-id-1 div.sk-toggleable {background-color: white;}#sk-container-id-1 label.sk-toggleable__label {cursor: pointer;display: block;width: 100%;margin-bottom: 0;padding: 0.3em;box-sizing: border-box;text-align: center;}#sk-container-id-1 label.sk-toggleable__label-arrow:before {content: \"▸\";float: left;margin-right: 0.25em;color: #696969;}#sk-container-id-1 label.sk-toggleable__label-arrow:hover:before {color: black;}#sk-container-id-1 div.sk-estimator:hover label.sk-toggleable__label-arrow:before {color: black;}#sk-container-id-1 div.sk-toggleable__content {max-height: 0;max-width: 0;overflow: hidden;text-align: left;background-color: #f0f8ff;}#sk-container-id-1 div.sk-toggleable__content pre {margin: 0.2em;color: black;border-radius: 0.25em;background-color: #f0f8ff;}#sk-container-id-1 input.sk-toggleable__control:checked~div.sk-toggleable__content {max-height: 200px;max-width: 100%;overflow: auto;}#sk-container-id-1 input.sk-toggleable__control:checked~label.sk-toggleable__label-arrow:before {content: \"▾\";}#sk-container-id-1 div.sk-estimator input.sk-toggleable__control:checked~label.sk-toggleable__label {background-color: #d4ebff;}#sk-container-id-1 div.sk-label input.sk-toggleable__control:checked~label.sk-toggleable__label {background-color: #d4ebff;}#sk-container-id-1 input.sk-hidden--visually {border: 0;clip: rect(1px 1px 1px 1px);clip: rect(1px, 1px, 1px, 1px);height: 1px;margin: -1px;overflow: hidden;padding: 0;position: absolute;width: 1px;}#sk-container-id-1 div.sk-estimator {font-family: monospace;background-color: #f0f8ff;border: 1px dotted black;border-radius: 0.25em;box-sizing: border-box;margin-bottom: 0.5em;}#sk-container-id-1 div.sk-estimator:hover {background-color: #d4ebff;}#sk-container-id-1 div.sk-parallel-item::after {content: \"\";width: 100%;border-bottom: 1px solid gray;flex-grow: 1;}#sk-container-id-1 div.sk-label:hover label.sk-toggleable__label {background-color: #d4ebff;}#sk-container-id-1 div.sk-serial::before {content: \"\";position: absolute;border-left: 1px solid gray;box-sizing: border-box;top: 0;bottom: 0;left: 50%;z-index: 0;}#sk-container-id-1 div.sk-serial {display: flex;flex-direction: column;align-items: center;background-color: white;padding-right: 0.2em;padding-left: 0.2em;position: relative;}#sk-container-id-1 div.sk-item {position: relative;z-index: 1;}#sk-container-id-1 div.sk-parallel {display: flex;align-items: stretch;justify-content: center;background-color: white;position: relative;}#sk-container-id-1 div.sk-item::before, #sk-container-id-1 div.sk-parallel-item::before {content: \"\";position: absolute;border-left: 1px solid gray;box-sizing: border-box;top: 0;bottom: 0;left: 50%;z-index: -1;}#sk-container-id-1 div.sk-parallel-item {display: flex;flex-direction: column;z-index: 1;position: relative;background-color: white;}#sk-container-id-1 div.sk-parallel-item:first-child::after {align-self: flex-end;width: 50%;}#sk-container-id-1 div.sk-parallel-item:last-child::after {align-self: flex-start;width: 50%;}#sk-container-id-1 div.sk-parallel-item:only-child::after {width: 0;}#sk-container-id-1 div.sk-dashed-wrapped {border: 1px dashed gray;margin: 0 0.4em 0.5em 0.4em;box-sizing: border-box;padding-bottom: 0.4em;background-color: white;}#sk-container-id-1 div.sk-label label {font-family: monospace;font-weight: bold;display: inline-block;line-height: 1.2em;}#sk-container-id-1 div.sk-label-container {text-align: center;}#sk-container-id-1 div.sk-container {/* jupyter's `normalize.less` sets `[hidden] { display: none; }` but bootstrap.min.css set `[hidden] { display: none !important; }` so we also need the `!important` here to be able to override the default hidden behavior on the sphinx rendered scikit-learn.org. See: https://github.com/scikit-learn/scikit-learn/issues/21755 */display: inline-block !important;position: relative;}#sk-container-id-1 div.sk-text-repr-fallback {display: none;}</style><div id=\"sk-container-id-1\" class=\"sk-top-container\"><div class=\"sk-text-repr-fallback\"><pre>Pipeline(steps=[(&#x27;encoder&#x27;,\n",
       "                 CountEncoder(cols=[&#x27;race&#x27;, &#x27;sex&#x27;, &#x27;marital_status&#x27;,\n",
       "                                    &#x27;rent_or_own&#x27;, &#x27;employment_status&#x27;,\n",
       "                                    &#x27;hhs_geo_region&#x27;, &#x27;census_msa&#x27;,\n",
       "                                    &#x27;employment_industry&#x27;,\n",
       "                                    &#x27;employment_occupation&#x27;],\n",
       "                              combine_min_nan_groups=True)),\n",
       "                (&#x27;rfc&#x27;, RandomForestClassifier())])</pre><b>In a Jupyter environment, please rerun this cell to show the HTML representation or trust the notebook. <br />On GitHub, the HTML representation is unable to render, please try loading this page with nbviewer.org.</b></div><div class=\"sk-container\" hidden><div class=\"sk-item sk-dashed-wrapped\"><div class=\"sk-label-container\"><div class=\"sk-label sk-toggleable\"><input class=\"sk-toggleable__control sk-hidden--visually\" id=\"sk-estimator-id-1\" type=\"checkbox\" ><label for=\"sk-estimator-id-1\" class=\"sk-toggleable__label sk-toggleable__label-arrow\">Pipeline</label><div class=\"sk-toggleable__content\"><pre>Pipeline(steps=[(&#x27;encoder&#x27;,\n",
       "                 CountEncoder(cols=[&#x27;race&#x27;, &#x27;sex&#x27;, &#x27;marital_status&#x27;,\n",
       "                                    &#x27;rent_or_own&#x27;, &#x27;employment_status&#x27;,\n",
       "                                    &#x27;hhs_geo_region&#x27;, &#x27;census_msa&#x27;,\n",
       "                                    &#x27;employment_industry&#x27;,\n",
       "                                    &#x27;employment_occupation&#x27;],\n",
       "                              combine_min_nan_groups=True)),\n",
       "                (&#x27;rfc&#x27;, RandomForestClassifier())])</pre></div></div></div><div class=\"sk-serial\"><div class=\"sk-item\"><div class=\"sk-estimator sk-toggleable\"><input class=\"sk-toggleable__control sk-hidden--visually\" id=\"sk-estimator-id-2\" type=\"checkbox\" ><label for=\"sk-estimator-id-2\" class=\"sk-toggleable__label sk-toggleable__label-arrow\">CountEncoder</label><div class=\"sk-toggleable__content\"><pre>CountEncoder(cols=[&#x27;race&#x27;, &#x27;sex&#x27;, &#x27;marital_status&#x27;, &#x27;rent_or_own&#x27;,\n",
       "                   &#x27;employment_status&#x27;, &#x27;hhs_geo_region&#x27;, &#x27;census_msa&#x27;,\n",
       "                   &#x27;employment_industry&#x27;, &#x27;employment_occupation&#x27;],\n",
       "             combine_min_nan_groups=True)</pre></div></div></div><div class=\"sk-item\"><div class=\"sk-estimator sk-toggleable\"><input class=\"sk-toggleable__control sk-hidden--visually\" id=\"sk-estimator-id-3\" type=\"checkbox\" ><label for=\"sk-estimator-id-3\" class=\"sk-toggleable__label sk-toggleable__label-arrow\">RandomForestClassifier</label><div class=\"sk-toggleable__content\"><pre>RandomForestClassifier()</pre></div></div></div></div></div></div></div>"
      ],
      "text/plain": [
       "Pipeline(steps=[('encoder',\n",
       "                 CountEncoder(cols=['race', 'sex', 'marital_status',\n",
       "                                    'rent_or_own', 'employment_status',\n",
       "                                    'hhs_geo_region', 'census_msa',\n",
       "                                    'employment_industry',\n",
       "                                    'employment_occupation'],\n",
       "                              combine_min_nan_groups=True)),\n",
       "                ('rfc', RandomForestClassifier())])"
      ]
     },
     "execution_count": 32,
     "metadata": {},
     "output_type": "execute_result"
    }
   ],
   "source": [
    "rfc_1_pipeline = Pipeline(steps=[\n",
    "    ('encoder', CountEncoder()),\n",
    "    ('rfc', RandomForestClassifier())\n",
    "])\n",
    "\n",
    "\n",
    "rfc_1_pipeline.fit(X, y1)"
   ]
  },
  {
   "cell_type": "code",
   "execution_count": 33,
   "id": "8325c42c-e0cc-41df-8b8f-2c84bd090174",
   "metadata": {},
   "outputs": [
    {
     "name": "stderr",
     "output_type": "stream",
     "text": [
      "[Parallel(n_jobs=-1)]: Using backend LokyBackend with 16 concurrent workers.\n",
      "[Parallel(n_jobs=-1)]: Done  10 out of  10 | elapsed:    6.4s finished\n"
     ]
    }
   ],
   "source": [
    "cv_rfc_1_scores_from_pipe = cross_val_score(rfc_1_pipeline, X, y1, scoring='roc_auc', cv=10, n_jobs=-1, verbose=1)"
   ]
  },
  {
   "cell_type": "code",
   "execution_count": 34,
   "id": "dd5a06be-c585-4bf7-98c9-802b615cc7e2",
   "metadata": {},
   "outputs": [
    {
     "data": {
      "text/plain": [
       "0.8603255953816955"
      ]
     },
     "execution_count": 34,
     "metadata": {},
     "output_type": "execute_result"
    }
   ],
   "source": [
    "np.mean(cv_rfc_1_scores_from_pipe)"
   ]
  },
  {
   "cell_type": "markdown",
   "id": "8cf13ec7-7b12-4194-a0cc-ab60586ad075",
   "metadata": {},
   "source": [
    "### Generic pipeline"
   ]
  },
  {
   "cell_type": "markdown",
   "id": "4e43878c-af48-4beb-9fcc-2ef85c87765e",
   "metadata": {},
   "source": [
    "# Hyperparameter tuning"
   ]
  },
  {
   "cell_type": "code",
   "execution_count": 36,
   "id": "557ad749-87ba-4df7-a334-35767dd87a41",
   "metadata": {},
   "outputs": [],
   "source": [
    "from sklearn.model_selection import GridSearchCV, RandomizedSearchCV\n",
    "\n",
    "from scipy.stats import uniform, randint"
   ]
  },
  {
   "cell_type": "code",
   "execution_count": 38,
   "id": "cd41c3ad-2179-4694-aa85-aca88c9e1872",
   "metadata": {},
   "outputs": [
    {
     "name": "stdout",
     "output_type": "stream",
     "text": [
      "Fitting 10 folds for each of 60 candidates, totalling 600 fits\n",
      "Fitting 10 folds for each of 60 candidates, totalling 600 fits\n"
     ]
    }
   ],
   "source": [
    "distr_params = {\n",
    "    'ml__max_features': randint(5, 20),\n",
    "    'ml__min_samples_leaf':randint(2, 6),\n",
    "    'ml__max_depth': randint(5, 20)\n",
    "}\n",
    "\n",
    "ml_pipeline = Pipeline(steps=[\n",
    "    ('encoder', CountEncoder()),\n",
    "    ('ml', RandomForestClassifier())\n",
    "])\n",
    "\n",
    "\n",
    "randomized_rfc_1 = RandomizedSearchCV(ml_pipeline, distr_params,cv=10,n_iter=60, scoring='roc_auc', n_jobs=-1, verbose=1, random_state=21,).fit(X,y1)\n",
    "randomized_rfc_2 = RandomizedSearchCV(ml_pipeline, distr_params,cv=10,n_iter=60, scoring='roc_auc', n_jobs=-1, verbose=1, random_state=21).fit(X,y2)"
   ]
  },
  {
   "cell_type": "code",
   "execution_count": 40,
   "id": "42bfe9f8-7770-4156-8368-9ae995a8e55c",
   "metadata": {},
   "outputs": [
    {
     "data": {
      "text/plain": [
       "0.865953036901552"
      ]
     },
     "execution_count": 40,
     "metadata": {},
     "output_type": "execute_result"
    }
   ],
   "source": [
    "randomized_rfc_1.best_score_"
   ]
  },
  {
   "cell_type": "code",
   "execution_count": 41,
   "id": "b11d2774-7614-4f2e-b00c-110c98c7488d",
   "metadata": {},
   "outputs": [
    {
     "data": {
      "text/html": [
       "<style>#sk-container-id-2 {color: black;background-color: white;}#sk-container-id-2 pre{padding: 0;}#sk-container-id-2 div.sk-toggleable {background-color: white;}#sk-container-id-2 label.sk-toggleable__label {cursor: pointer;display: block;width: 100%;margin-bottom: 0;padding: 0.3em;box-sizing: border-box;text-align: center;}#sk-container-id-2 label.sk-toggleable__label-arrow:before {content: \"▸\";float: left;margin-right: 0.25em;color: #696969;}#sk-container-id-2 label.sk-toggleable__label-arrow:hover:before {color: black;}#sk-container-id-2 div.sk-estimator:hover label.sk-toggleable__label-arrow:before {color: black;}#sk-container-id-2 div.sk-toggleable__content {max-height: 0;max-width: 0;overflow: hidden;text-align: left;background-color: #f0f8ff;}#sk-container-id-2 div.sk-toggleable__content pre {margin: 0.2em;color: black;border-radius: 0.25em;background-color: #f0f8ff;}#sk-container-id-2 input.sk-toggleable__control:checked~div.sk-toggleable__content {max-height: 200px;max-width: 100%;overflow: auto;}#sk-container-id-2 input.sk-toggleable__control:checked~label.sk-toggleable__label-arrow:before {content: \"▾\";}#sk-container-id-2 div.sk-estimator input.sk-toggleable__control:checked~label.sk-toggleable__label {background-color: #d4ebff;}#sk-container-id-2 div.sk-label input.sk-toggleable__control:checked~label.sk-toggleable__label {background-color: #d4ebff;}#sk-container-id-2 input.sk-hidden--visually {border: 0;clip: rect(1px 1px 1px 1px);clip: rect(1px, 1px, 1px, 1px);height: 1px;margin: -1px;overflow: hidden;padding: 0;position: absolute;width: 1px;}#sk-container-id-2 div.sk-estimator {font-family: monospace;background-color: #f0f8ff;border: 1px dotted black;border-radius: 0.25em;box-sizing: border-box;margin-bottom: 0.5em;}#sk-container-id-2 div.sk-estimator:hover {background-color: #d4ebff;}#sk-container-id-2 div.sk-parallel-item::after {content: \"\";width: 100%;border-bottom: 1px solid gray;flex-grow: 1;}#sk-container-id-2 div.sk-label:hover label.sk-toggleable__label {background-color: #d4ebff;}#sk-container-id-2 div.sk-serial::before {content: \"\";position: absolute;border-left: 1px solid gray;box-sizing: border-box;top: 0;bottom: 0;left: 50%;z-index: 0;}#sk-container-id-2 div.sk-serial {display: flex;flex-direction: column;align-items: center;background-color: white;padding-right: 0.2em;padding-left: 0.2em;position: relative;}#sk-container-id-2 div.sk-item {position: relative;z-index: 1;}#sk-container-id-2 div.sk-parallel {display: flex;align-items: stretch;justify-content: center;background-color: white;position: relative;}#sk-container-id-2 div.sk-item::before, #sk-container-id-2 div.sk-parallel-item::before {content: \"\";position: absolute;border-left: 1px solid gray;box-sizing: border-box;top: 0;bottom: 0;left: 50%;z-index: -1;}#sk-container-id-2 div.sk-parallel-item {display: flex;flex-direction: column;z-index: 1;position: relative;background-color: white;}#sk-container-id-2 div.sk-parallel-item:first-child::after {align-self: flex-end;width: 50%;}#sk-container-id-2 div.sk-parallel-item:last-child::after {align-self: flex-start;width: 50%;}#sk-container-id-2 div.sk-parallel-item:only-child::after {width: 0;}#sk-container-id-2 div.sk-dashed-wrapped {border: 1px dashed gray;margin: 0 0.4em 0.5em 0.4em;box-sizing: border-box;padding-bottom: 0.4em;background-color: white;}#sk-container-id-2 div.sk-label label {font-family: monospace;font-weight: bold;display: inline-block;line-height: 1.2em;}#sk-container-id-2 div.sk-label-container {text-align: center;}#sk-container-id-2 div.sk-container {/* jupyter's `normalize.less` sets `[hidden] { display: none; }` but bootstrap.min.css set `[hidden] { display: none !important; }` so we also need the `!important` here to be able to override the default hidden behavior on the sphinx rendered scikit-learn.org. See: https://github.com/scikit-learn/scikit-learn/issues/21755 */display: inline-block !important;position: relative;}#sk-container-id-2 div.sk-text-repr-fallback {display: none;}</style><div id=\"sk-container-id-2\" class=\"sk-top-container\"><div class=\"sk-text-repr-fallback\"><pre>Pipeline(steps=[(&#x27;encoder&#x27;,\n",
       "                 CountEncoder(cols=[&#x27;race&#x27;, &#x27;sex&#x27;, &#x27;marital_status&#x27;,\n",
       "                                    &#x27;rent_or_own&#x27;, &#x27;employment_status&#x27;,\n",
       "                                    &#x27;hhs_geo_region&#x27;, &#x27;census_msa&#x27;,\n",
       "                                    &#x27;employment_industry&#x27;,\n",
       "                                    &#x27;employment_occupation&#x27;],\n",
       "                              combine_min_nan_groups=True)),\n",
       "                (&#x27;ml&#x27;,\n",
       "                 RandomForestClassifier(max_depth=11, max_features=9,\n",
       "                                        min_samples_leaf=4))])</pre><b>In a Jupyter environment, please rerun this cell to show the HTML representation or trust the notebook. <br />On GitHub, the HTML representation is unable to render, please try loading this page with nbviewer.org.</b></div><div class=\"sk-container\" hidden><div class=\"sk-item sk-dashed-wrapped\"><div class=\"sk-label-container\"><div class=\"sk-label sk-toggleable\"><input class=\"sk-toggleable__control sk-hidden--visually\" id=\"sk-estimator-id-4\" type=\"checkbox\" ><label for=\"sk-estimator-id-4\" class=\"sk-toggleable__label sk-toggleable__label-arrow\">Pipeline</label><div class=\"sk-toggleable__content\"><pre>Pipeline(steps=[(&#x27;encoder&#x27;,\n",
       "                 CountEncoder(cols=[&#x27;race&#x27;, &#x27;sex&#x27;, &#x27;marital_status&#x27;,\n",
       "                                    &#x27;rent_or_own&#x27;, &#x27;employment_status&#x27;,\n",
       "                                    &#x27;hhs_geo_region&#x27;, &#x27;census_msa&#x27;,\n",
       "                                    &#x27;employment_industry&#x27;,\n",
       "                                    &#x27;employment_occupation&#x27;],\n",
       "                              combine_min_nan_groups=True)),\n",
       "                (&#x27;ml&#x27;,\n",
       "                 RandomForestClassifier(max_depth=11, max_features=9,\n",
       "                                        min_samples_leaf=4))])</pre></div></div></div><div class=\"sk-serial\"><div class=\"sk-item\"><div class=\"sk-estimator sk-toggleable\"><input class=\"sk-toggleable__control sk-hidden--visually\" id=\"sk-estimator-id-5\" type=\"checkbox\" ><label for=\"sk-estimator-id-5\" class=\"sk-toggleable__label sk-toggleable__label-arrow\">CountEncoder</label><div class=\"sk-toggleable__content\"><pre>CountEncoder(cols=[&#x27;race&#x27;, &#x27;sex&#x27;, &#x27;marital_status&#x27;, &#x27;rent_or_own&#x27;,\n",
       "                   &#x27;employment_status&#x27;, &#x27;hhs_geo_region&#x27;, &#x27;census_msa&#x27;,\n",
       "                   &#x27;employment_industry&#x27;, &#x27;employment_occupation&#x27;],\n",
       "             combine_min_nan_groups=True)</pre></div></div></div><div class=\"sk-item\"><div class=\"sk-estimator sk-toggleable\"><input class=\"sk-toggleable__control sk-hidden--visually\" id=\"sk-estimator-id-6\" type=\"checkbox\" ><label for=\"sk-estimator-id-6\" class=\"sk-toggleable__label sk-toggleable__label-arrow\">RandomForestClassifier</label><div class=\"sk-toggleable__content\"><pre>RandomForestClassifier(max_depth=11, max_features=9, min_samples_leaf=4)</pre></div></div></div></div></div></div></div>"
      ],
      "text/plain": [
       "Pipeline(steps=[('encoder',\n",
       "                 CountEncoder(cols=['race', 'sex', 'marital_status',\n",
       "                                    'rent_or_own', 'employment_status',\n",
       "                                    'hhs_geo_region', 'census_msa',\n",
       "                                    'employment_industry',\n",
       "                                    'employment_occupation'],\n",
       "                              combine_min_nan_groups=True)),\n",
       "                ('ml',\n",
       "                 RandomForestClassifier(max_depth=11, max_features=9,\n",
       "                                        min_samples_leaf=4))])"
      ]
     },
     "execution_count": 41,
     "metadata": {},
     "output_type": "execute_result"
    }
   ],
   "source": [
    "best_rfc_1 = randomized_rfc_1.best_estimator_\n",
    "best_rfc_1"
   ]
  },
  {
   "cell_type": "code",
   "execution_count": 42,
   "id": "92b3cf71-c734-4057-a476-9a92c93ed3b6",
   "metadata": {},
   "outputs": [
    {
     "data": {
      "text/plain": [
       "<bound method Pipeline.get_params of Pipeline(steps=[('encoder',\n",
       "                 CountEncoder(cols=['race', 'sex', 'marital_status',\n",
       "                                    'rent_or_own', 'employment_status',\n",
       "                                    'hhs_geo_region', 'census_msa',\n",
       "                                    'employment_industry',\n",
       "                                    'employment_occupation'],\n",
       "                              combine_min_nan_groups=True)),\n",
       "                ('ml',\n",
       "                 RandomForestClassifier(max_depth=14, max_features=10,\n",
       "                                        min_samples_leaf=4))])>"
      ]
     },
     "execution_count": 42,
     "metadata": {},
     "output_type": "execute_result"
    }
   ],
   "source": [
    "best_rfc_2 = randomized_rfc_2.best_estimator_\n",
    "best_rfc_2.get_params"
   ]
  },
  {
   "cell_type": "code",
   "execution_count": 43,
   "id": "e760aa53",
   "metadata": {},
   "outputs": [],
   "source": [
    "y_test1 = best_rfc_1.predict_proba(X_test)[:, 1]\n",
    "y_test2 = best_rfc_2.predict_proba(X_test)[:, 1]\n"
   ]
  },
  {
   "cell_type": "code",
   "execution_count": 44,
   "id": "f90808ab",
   "metadata": {},
   "outputs": [],
   "source": [
    "y_test_df = pd.DataFrame(y_test1, columns =['h1n1_vaccine'], dtype = float) \n",
    "arr = np.arange(26707, 53415)\n",
    "y_test_df['respondent_id'] = arr.tolist()\n",
    "y_test_df['seasonal_vaccine'] = y_test2.tolist()\n",
    "y_test_df['seasonal_vaccine'] = y_test_df['seasonal_vaccine'].astype(float)\n",
    "y_test_df = y_test_df[['respondent_id','h1n1_vaccine','seasonal_vaccine']]\n",
    "y_test_df.to_csv(\"y_test.csv\", index=False)"
   ]
  },
  {
   "cell_type": "code",
   "execution_count": null,
   "id": "e6b74a8a",
   "metadata": {},
   "outputs": [],
   "source": []
  }
 ],
 "metadata": {
  "kernelspec": {
   "display_name": "Python 3 (ipykernel)",
   "language": "python",
   "name": "python3"
  },
  "language_info": {
   "codemirror_mode": {
    "name": "ipython",
    "version": 3
   },
   "file_extension": ".py",
   "mimetype": "text/x-python",
   "name": "python",
   "nbconvert_exporter": "python",
   "pygments_lexer": "ipython3",
   "version": "3.9.13"
  }
 },
 "nbformat": 4,
 "nbformat_minor": 5
}
